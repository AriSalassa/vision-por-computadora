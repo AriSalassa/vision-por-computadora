{
 "cells": [
  {
   "cell_type": "markdown",
   "metadata": {},
   "source": [
    "# Trabajo Práctico 4\n",
    "Para las imágenes suministradas:\n",
    "1. Implementar un extractor de características LBP básico (sin uniformidad, 8 vecinos)\n",
    "2. Realizar el histograma de características LBP de la imagen\n",
    "3. Comparar los histogramas"
   ]
  },
  {
   "cell_type": "code",
   "execution_count": 1,
   "metadata": {},
   "outputs": [],
   "source": [
    "import numpy as np\n",
    "import cv2 as cv\n",
    "import matplotlib.pyplot as plt\n",
    "cv.destroyAllWindows()"
   ]
  },
  {
   "cell_type": "code",
   "execution_count": 2,
   "metadata": {},
   "outputs": [
    {
     "name": "stdout",
     "output_type": "stream",
     "text": [
      "Using matplotlib backend: MacOSX\n"
     ]
    }
   ],
   "source": [
    "#Si queremos que las imágenes sean mostradas en una ventana emergente quitar el inline\n",
    "%matplotlib"
   ]
  },
  {
   "cell_type": "code",
   "execution_count": 3,
   "metadata": {},
   "outputs": [],
   "source": [
    "cam = cv.VideoCapture(1)"
   ]
  },
  {
   "cell_type": "code",
   "execution_count": 4,
   "metadata": {},
   "outputs": [
    {
     "name": "stdout",
     "output_type": "stream",
     "text": [
      "Frame shape: (720, 1280, 3)\n"
     ]
    }
   ],
   "source": [
    "ret, frame = cam.read()\n",
    "print(\"Frame shape:\", frame.shape)\n",
    "cv.imshow('Frame', frame)\n",
    "cam.release()"
   ]
  },
  {
   "cell_type": "code",
   "execution_count": 5,
   "metadata": {},
   "outputs": [
    {
     "name": "stdout",
     "output_type": "stream",
     "text": [
      "Click & Drag to select ROI - Hit any key to continue\n",
      "1\n",
      "841 406\n",
      "4\n",
      "1041 577\n",
      "ROI correctly selected\n"
     ]
    },
    {
     "data": {
      "text/plain": [
       "113"
      ]
     },
     "execution_count": 5,
     "metadata": {},
     "output_type": "execute_result"
    }
   ],
   "source": [
    "roi = None\n",
    "roi_pts = [(0,0), (0,0)]\n",
    "cropping = False\n",
    "\n",
    "def select_roi(event, x, y, flags, param):\n",
    "    global frame, roi, roi_pts, cropping\n",
    "    \n",
    "    if event == cv.EVENT_LBUTTONDOWN:\n",
    "        print(event)\n",
    "        print(x, y)\n",
    "        roi_pts[0] = (x, y)\n",
    "        cropping = True\n",
    "\n",
    "    elif event == cv.EVENT_LBUTTONUP:\n",
    "        print(event)\n",
    "        print(x, y)\n",
    "        \n",
    "        roi_pts[1] = (x, y)\n",
    "        cropping = False\n",
    "\n",
    "        frame_cp = frame.copy()\n",
    "        cv.rectangle(frame_cp, roi_pts[0], roi_pts[1], (0, 255, 0), 2)\n",
    "        cv.imshow('Frame', frame_cp)\n",
    "\n",
    "        yi = min(roi_pts[0][0], roi_pts[1][0])\n",
    "        xi = min(roi_pts[0][1], roi_pts[1][1])\n",
    "        yf = max(roi_pts[0][0], roi_pts[1][0])\n",
    "        xf = max(roi_pts[0][1], roi_pts[1][1])\n",
    "        \n",
    "        roi = frame[xi:xf, yi:yf]\n",
    "        \n",
    "        if roi is not None:\n",
    "            print(\"ROI correctly selected\")\n",
    "            cv.imshow('ROI', roi)\n",
    "        else:\n",
    "            print(\"Error\")\n",
    "\n",
    "cv.setMouseCallback('Frame', select_roi)\n",
    "\n",
    "print(\"Click & Drag to select ROI - Hit any key to continue\")\n",
    "cv.waitKey(0)"
   ]
  },
  {
   "cell_type": "code",
   "execution_count": 6,
   "metadata": {},
   "outputs": [
    {
     "name": "stdout",
     "output_type": "stream",
     "text": [
      "ROI correctly selected\n"
     ]
    }
   ],
   "source": [
    "if roi is not None:\n",
    "    print(\"ROI correctly selected\")\n",
    "else:\n",
    "    print(\"Error\")"
   ]
  },
  {
   "cell_type": "code",
   "execution_count": 7,
   "metadata": {},
   "outputs": [
    {
     "name": "stdout",
     "output_type": "stream",
     "text": [
      "841 406\n",
      "1041 577\n",
      "406 577 841 1041\n"
     ]
    }
   ],
   "source": [
    "print(roi_pts[0][0], roi_pts[0][1])\n",
    "print(roi_pts[1][0], roi_pts[1][1])\n",
    "\n",
    "yi = min(roi_pts[0][0], roi_pts[1][0])\n",
    "xi = min(roi_pts[0][1], roi_pts[1][1])\n",
    "yf = max(roi_pts[0][0], roi_pts[1][0])\n",
    "xf = max(roi_pts[0][1], roi_pts[1][1])\n",
    "\n",
    "print(xi,xf,yi,yf)"
   ]
  },
  {
   "cell_type": "code",
   "execution_count": 15,
   "metadata": {},
   "outputs": [],
   "source": [
    "# %matplotlib inline\n",
    "hsv_roi =  cv.cvtColor(roi, cv.COLOR_BGR2HSV)\n",
    "\n",
    "fig, ax = plt.subplots(1,1)\n",
    "\n",
    "major_ticks_top=np.linspace(0,255,16)\n",
    "minor_ticks_top=np.linspace(0,255,128)\n",
    "\n",
    "ax.set_xticks(major_ticks_top)\n",
    "ax.set_xticks(minor_ticks_top, minor=True)\n",
    "\n",
    "ax.hist(hsv_roi[:,:,0].ravel(), bins=30, label=\"H\")\n",
    "ax.hist(hsv_roi[:,:,1].ravel(), bins=30, label=\"S\")\n",
    "ax.hist(hsv_roi[:,:,2].ravel(), bins=30, label=\"V\")\n",
    "ax.legend()\n",
    "for tick in ax.get_xticklabels():\n",
    "    tick.set_rotation(90)\n",
    "ax.grid()\n",
    "\n",
    "fig.show()"
   ]
  },
  {
   "cell_type": "code",
   "execution_count": 29,
   "metadata": {},
   "outputs": [
    {
     "data": {
      "text/plain": [
       "<matplotlib.image.AxesImage at 0x14cf39110>"
      ]
     },
     "execution_count": 29,
     "metadata": {},
     "output_type": "execute_result"
    }
   ],
   "source": [
    "mask = cv.inRange(hsv_roi, np.array((75., 40., 6.)), np.array((110., 204., 68.)))\n",
    "roi_hist = cv.calcHist([hsv_roi],[0],mask,[180],[0,180])\n",
    "cv.normalize(roi_hist,roi_hist,0,255,cv.NORM_MINMAX)\n",
    "\n",
    "plt.figure()\n",
    "plt.subplot(121)\n",
    "plt.imshow(cv.cvtColor(roi, cv.COLOR_BGR2RGB))\n",
    "plt.subplot(122)\n",
    "plt.imshow(mask)"
   ]
  },
  {
   "cell_type": "code",
   "execution_count": 30,
   "metadata": {},
   "outputs": [
    {
     "name": "stdout",
     "output_type": "stream",
     "text": [
      "(406, 841, 171, 200)\n"
     ]
    }
   ],
   "source": [
    "x = xi\n",
    "y = yi\n",
    "w = xf - xi\n",
    "h = yf - yi\n",
    "track_window = (x, y, w, h)\n",
    "print(track_window)\n",
    "\n",
    "# Condición de terminación: 10 iteraciones o moverse al menos 1pt\n",
    "#----------------------------------------------------------------\n",
    "term_crit = ( cv.TERM_CRITERIA_EPS | cv.TERM_CRITERIA_COUNT, 1, 10 )\n",
    "\n",
    "camera = cv.VideoCapture(1)\n",
    "\n",
    "while(1):\n",
    "    ret, frame = camera.read()\n",
    "    if ret == True:\n",
    "        hsv = cv.cvtColor(frame, cv.COLOR_BGR2HSV)\n",
    "        dst = cv.calcBackProject([hsv],[0],roi_hist,[0,180],1)\n",
    "        dst = cv.medianBlur(dst,9)\n",
    "        \n",
    "        ret, track_window = cv.CamShift(dst, track_window, term_crit)\n",
    "        \n",
    "        # Dibujamos la ventana sobre la imagen\n",
    "        #=====================================\n",
    "        \n",
    "        # Con escalamiento y rotación de la ventana de seguimiento\n",
    "        #---------------------------------------------------------\n",
    "        #pts = cv.boxPoints(ret)                      # Encuentra los 4 vértices del rectángulo rotado\n",
    "        #pts = np.int0(pts)                           # int0 (entero usado para indexado)\n",
    "        #img2 = cv.polylines(frame,[pts],True, 255,2) # Dibujo del rectángulo\n",
    "        \n",
    "        # Con escalamiento de ventana - Sin rotación\n",
    "        #-------------------------------------------\n",
    "        x,y,w,h = track_window\n",
    "        img2 = cv.rectangle(frame, (x,y), (x+w,y+h), 255,2)\n",
    "        \n",
    "        cv.imshow('Seguimiento',img2)\n",
    "        cv.imshow('Mask',dst)\n",
    "        \n",
    "        k = cv.waitKey(30) & 0xff\n",
    "        if k == 27:\n",
    "            break\n",
    "    else:\n",
    "        break\n",
    "\n",
    "camera.release()"
   ]
  },
  {
   "cell_type": "code",
   "execution_count": 45,
   "metadata": {},
   "outputs": [],
   "source": [
    "camera.release()\n",
    "cv.destroyAllWindows()"
   ]
  }
 ],
 "metadata": {
  "interpreter": {
   "hash": "eda8329ce5439e37ea24af16a4ff5a945220a519191618dcf6a534d3fc61cae6"
  },
  "kernelspec": {
   "display_name": "Python 3.7.11 64-bit ('3.7.11': pyenv)",
   "name": "python3"
  },
  "language_info": {
   "codemirror_mode": {
    "name": "ipython",
    "version": 3
   },
   "file_extension": ".py",
   "mimetype": "text/x-python",
   "name": "python",
   "nbconvert_exporter": "python",
   "pygments_lexer": "ipython3",
   "version": "3.7.11"
  },
  "orig_nbformat": 4
 },
 "nbformat": 4,
 "nbformat_minor": 2
}
