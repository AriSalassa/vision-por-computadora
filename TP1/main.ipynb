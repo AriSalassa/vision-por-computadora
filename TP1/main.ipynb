{
 "cells": [
  {
   "cell_type": "markdown",
   "source": [
    "# Trabajo Práctico 1\n",
    "Para las imágenes que serán proporcionadas de Tito se pide:\n",
    "1. Implementar el algoritmo de pasaje a coordenadas cromáticas para librarnos de las\n",
    "variaciones de contraste.\n",
    "1. Implementar el algoritmo White Patch para librarnos de las diferencias de color de\n",
    "iluminación."
   ],
   "metadata": {}
  },
  {
   "cell_type": "code",
   "execution_count": 1,
   "source": [
    "#Si queremos que las imágenes sean mostradas en una ventana emergente quitar el inline\n",
    "%matplotlib\n",
    "\n",
    "# OpenCV-Python utiliza NumPy para el manejo de imágenes\n",
    "import numpy as np\n",
    "# cv2 es el módulo python para acceder a OpenCV \n",
    "import cv2 as cv\n",
    "# Usamos las poderosas herramientas de graficación de matplotlib para mostrar imágenes, perfiles, histogramas, etc\n",
    "import matplotlib.pyplot as plt"
   ],
   "outputs": [
    {
     "output_type": "stream",
     "name": "stdout",
     "text": [
      "Using matplotlib backend: MacOSX\n"
     ]
    }
   ],
   "metadata": {}
  },
  {
   "cell_type": "markdown",
   "source": [
    "## Pasaje a coordenadas cromáticas"
   ],
   "metadata": {}
  },
  {
   "cell_type": "code",
   "execution_count": 2,
   "source": [
    "def convert2RGB(img_input: np.array):\n",
    "    return cv.cvtColor(img_input, cv.COLOR_BGR2RGB)"
   ],
   "outputs": [],
   "metadata": {}
  },
  {
   "cell_type": "code",
   "execution_count": 3,
   "source": [
    "def print_image(img_input: np.array):\n",
    "    img_plot = cv.cvtColor(img_input, cv.COLOR_BGR2RGB)\n",
    "    plt.imshow(img_plot)  \n",
    "    plt.show()"
   ],
   "outputs": [],
   "metadata": {}
  },
  {
   "cell_type": "code",
   "execution_count": 4,
   "source": [
    "def splitRGB(img: np.array):\n",
    "    im_r,im_g,im_b = cv.split(img)\n",
    "    return im_r,im_g,im_b"
   ],
   "outputs": [],
   "metadata": {}
  },
  {
   "cell_type": "code",
   "execution_count": 5,
   "source": [
    "def convert2CromCoord(img_input: np.array, stability = 0.0001):\n",
    "    r, g, b = splitRGB(img_input)\n",
    "    \n",
    "    den = r + g + b + stability\n",
    "    \n",
    "    ch_1 = r/den\n",
    "    ch_2 = g/den\n",
    "    ch_3 = b/den\n",
    "\n",
    "    img_cc = np.stack((ch_1, ch_2, ch_3), axis=-1)\n",
    "    return img_cc"
   ],
   "outputs": [],
   "metadata": {}
  },
  {
   "cell_type": "code",
   "execution_count": 6,
   "source": [
    "# Read de imgs\n",
    "img_cc_1 = cv.imread('./img/CoordCrom_1.png')\n",
    "img_cc_2 = cv.imread('./img/CoordCrom_2.png')\n",
    "img_cc_3 = cv.imread('./img/CoordCrom_3.png')"
   ],
   "outputs": [],
   "metadata": {}
  },
  {
   "cell_type": "code",
   "execution_count": 7,
   "source": [
    "img_cc_1.shape"
   ],
   "outputs": [
    {
     "output_type": "execute_result",
     "data": {
      "text/plain": [
       "(996, 908, 3)"
      ]
     },
     "metadata": {},
     "execution_count": 7
    }
   ],
   "metadata": {}
  },
  {
   "cell_type": "code",
   "execution_count": 8,
   "source": [
    "img_array = np.array([convert2RGB(img_cc_1), convert2RGB(img_cc_2), convert2RGB(img_cc_3)], dtype=int)\n",
    "img_array.shape"
   ],
   "outputs": [
    {
     "output_type": "execute_result",
     "data": {
      "text/plain": [
       "(3, 996, 908, 3)"
      ]
     },
     "metadata": {},
     "execution_count": 8
    }
   ],
   "metadata": {}
  },
  {
   "cell_type": "code",
   "execution_count": 9,
   "source": [
    "img_cc_array = np.zeros(img_array.shape)\n",
    "\n",
    "for i, img in enumerate(img_array):\n",
    "    img_cc_array[i] = convert2CromCoord(img)"
   ],
   "outputs": [],
   "metadata": {}
  },
  {
   "cell_type": "code",
   "execution_count": 10,
   "source": [
    "fig, axs = plt.subplots(2, len(img_array))\n",
    "fig.suptitle('Original vs chromatic coord. img')\n",
    "\n",
    "for i, img in enumerate(img_array):\n",
    "    axs[0, i].imshow(img)\n",
    "    axs[1, i].imshow(img_cc_array[i])\n",
    "    \n",
    "\n",
    "fig.show()"
   ],
   "outputs": [],
   "metadata": {}
  },
  {
   "cell_type": "code",
   "execution_count": null,
   "source": [],
   "outputs": [],
   "metadata": {}
  }
 ],
 "metadata": {
  "orig_nbformat": 4,
  "language_info": {
   "name": "python",
   "version": "3.7.11",
   "mimetype": "text/x-python",
   "codemirror_mode": {
    "name": "ipython",
    "version": 3
   },
   "pygments_lexer": "ipython3",
   "nbconvert_exporter": "python",
   "file_extension": ".py"
  },
  "kernelspec": {
   "name": "python3",
   "display_name": "Python 3.7.11 64-bit ('3.7.11': pyenv)"
  },
  "interpreter": {
   "hash": "2b59f1d54c01e139853fda34d9e533ced734dcf9049404a1201f3ec565e41e20"
  }
 },
 "nbformat": 4,
 "nbformat_minor": 2
}